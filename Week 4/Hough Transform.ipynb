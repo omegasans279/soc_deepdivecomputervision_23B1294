{
 "cells": [
  {
   "cell_type": "code",
   "execution_count": null,
   "id": "b7be1952-bc76-4f16-94d5-d68117e067f1",
   "metadata": {},
   "outputs": [],
   "source": [
    "import cv2\n",
    "import numpy as np\n",
    "from matplotlib import pyplot as plt\n",
    "\n",
    "image = cv2.cvtColor(cv2.imread(r\"C:\\Users\\DELL\\Downloads\\image.jpg\"),cv2.COLOR_BGR2RGB)\n",
    "gray = cv2.cvtColor(image, cv2.COLOR_RGB2GRAY)\n",
    "thresh = cv2.threshold(gray, 0, 255, cv2.THRESH_BINARY_INV + cv2.THRESH_OTSU)[1]\n",
    "\n",
    "# Find circles with HoughCircles\n",
    "circles = cv2.HoughCircles(thresh, cv2.HOUGH_GRADIENT, 1, minDist=150, param1=200, param2=18, minRadius=10,maxRadius = 20)\n",
    "\n",
    "# Draw circles\n",
    "if circles is not None:\n",
    "    circles = np.round(circles[0, :]).astype(\"int\")\n",
    "    for (x,y,r) in circles:\n",
    "        cv2.circle(image, (x,y), r, (36,255,12), 3)\n",
    "\n",
    "plt.imshow(image)\n",
    "plt.show()"
   ]
  },
  {
   "cell_type": "code",
   "execution_count": null,
   "id": "5525ec5e-8167-46d6-94da-fedc886dbd53",
   "metadata": {},
   "outputs": [],
   "source": [
    "import cv2 \n",
    "import numpy as np \n",
    "from matplotlib import pyplot as plt\n",
    "\n",
    "image = cv2.cvtColor(cv2.imread(r\"C:\\Users\\DELL\\Downloads\\image.jpg\"),cv2.COLOR_BGR2RGB)\n",
    "gray = cv2.cvtColor(image, cv2.COLOR_RGB2GRAY) \n",
    "gray_blurred = cv2.GaussianBlur(gray,[11,11],1) \n",
    "\n",
    "detected_circles = cv2.HoughCircles(gray_blurred, cv2.HOUGH_GRADIENT, 1, 20, param1 = 200, param2 = 30, minRadius = 0, maxRadius = 0) \n",
    " \n",
    "if detected_circles is not None: \n",
    "\tdetected_circles = np.uint16(np.around(detected_circles)) \n",
    "\n",
    "\tfor arr in detected_circles[0, :]: \n",
    "\t\ta, b, r = arr[0], arr[1], arr[2] \n",
    "\n",
    "\t\tcv2.circle(image, (a, b), r, [0, 255, 0], 2) \n",
    "\t\tcv2.circle(image, (a, b), 1, [255, 0, 0], 3) \n",
    "\n",
    "plt.imshow(image)\n",
    "plt.show()"
   ]
  },
  {
   "cell_type": "code",
   "execution_count": null,
   "id": "e7540420-1f7e-4b7c-b03c-12d2a0075318",
   "metadata": {},
   "outputs": [],
   "source": []
  }
 ],
 "metadata": {
  "kernelspec": {
   "display_name": "Python 3 (ipykernel)",
   "language": "python",
   "name": "python3"
  },
  "language_info": {
   "codemirror_mode": {
    "name": "ipython",
    "version": 3
   },
   "file_extension": ".py",
   "mimetype": "text/x-python",
   "name": "python",
   "nbconvert_exporter": "python",
   "pygments_lexer": "ipython3",
   "version": "3.12.1"
  }
 },
 "nbformat": 4,
 "nbformat_minor": 5
}
